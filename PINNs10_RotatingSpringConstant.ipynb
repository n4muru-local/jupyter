{
  "cells": [
    {
      "cell_type": "markdown",
      "metadata": {
        "id": "OouE8DvnSBWq"
      },
      "source": [
        "# Base PIP install"
      ]
    },
    {
      "cell_type": "code",
      "execution_count": null,
      "metadata": {
        "colab": {
          "base_uri": "https://localhost:8080/"
        },
        "id": "WYZ9iVYkR1Cl",
        "outputId": "abb9188b-cf03-4a89-d671-3de1cf0ecb75"
      },
      "outputs": [
        {
          "output_type": "stream",
          "name": "stdout",
          "text": [
            "Requirement already satisfied: japanize_matplotlib in /usr/local/lib/python3.10/dist-packages (1.1.3)\n",
            "Requirement already satisfied: matplotlib in /usr/local/lib/python3.10/dist-packages (from japanize_matplotlib) (3.8.0)\n",
            "Requirement already satisfied: contourpy>=1.0.1 in /usr/local/lib/python3.10/dist-packages (from matplotlib->japanize_matplotlib) (1.3.1)\n",
            "Requirement already satisfied: cycler>=0.10 in /usr/local/lib/python3.10/dist-packages (from matplotlib->japanize_matplotlib) (0.12.1)\n",
            "Requirement already satisfied: fonttools>=4.22.0 in /usr/local/lib/python3.10/dist-packages (from matplotlib->japanize_matplotlib) (4.55.0)\n",
            "Requirement already satisfied: kiwisolver>=1.0.1 in /usr/local/lib/python3.10/dist-packages (from matplotlib->japanize_matplotlib) (1.4.7)\n",
            "Requirement already satisfied: numpy<2,>=1.21 in /usr/local/lib/python3.10/dist-packages (from matplotlib->japanize_matplotlib) (1.26.4)\n",
            "Requirement already satisfied: packaging>=20.0 in /usr/local/lib/python3.10/dist-packages (from matplotlib->japanize_matplotlib) (24.2)\n",
            "Requirement already satisfied: pillow>=6.2.0 in /usr/local/lib/python3.10/dist-packages (from matplotlib->japanize_matplotlib) (11.0.0)\n",
            "Requirement already satisfied: pyparsing>=2.3.1 in /usr/local/lib/python3.10/dist-packages (from matplotlib->japanize_matplotlib) (3.2.0)\n",
            "Requirement already satisfied: python-dateutil>=2.7 in /usr/local/lib/python3.10/dist-packages (from matplotlib->japanize_matplotlib) (2.8.2)\n",
            "Requirement already satisfied: six>=1.5 in /usr/local/lib/python3.10/dist-packages (from python-dateutil>=2.7->matplotlib->japanize_matplotlib) (1.16.0)\n"
          ]
        }
      ],
      "source": [
        "!pip install japanize_matplotlib\n",
        "import numpy as np\n",
        "import math\n",
        "import matplotlib.pyplot as plt\n",
        "from matplotlib.collections import LineCollection\n",
        "import japanize_matplotlib\n",
        "import random\n",
        "\n",
        "\n",
        "\n",
        "import torch\n",
        "import torch.nn as nn\n",
        "import torch.nn.functional as F\n",
        "import torch.optim as optim\n",
        "from tqdm import tqdm\n",
        "\n",
        "from scipy.integrate import solve_ivp"
      ]
    },
    {
      "cell_type": "markdown",
      "metadata": {
        "id": "s4YKkYbpSGSb"
      },
      "source": [
        "# Setting Parameter(パラメータ設定)"
      ]
    },
    {
      "cell_type": "code",
      "execution_count": null,
      "metadata": {
        "id": "eTjk3weVSRiu"
      },
      "outputs": [],
      "source": [
        "# パラメータ設定\n",
        "m = 1.0       # 質量 [kg]\n",
        "k = 10.0      # バネ定数 [N/m]\n",
        "c = 1.0       # 減衰係数 [Ns/m]\n",
        "l = 1.0       # 自然長 [m]\n",
        "r0 = 1.0      # 初期位置 [m]\n",
        "v_r0 = 0.0    # 初速度 [m/s]\n",
        "v_theta0 = 5.0 # 初角速度 [rad/s]\n",
        "t_end = 10    # シミュレーション時間 [s]\n",
        "dt = 0.02     # タイムステップ [s]\n",
        "t_step = int(t_end/dt)\n",
        "\n",
        "\n",
        "\n",
        "# 初期条件\n",
        "r = r0\n",
        "theta = 0.0\n",
        "h = r0**2 * v_theta0  # 角運動量保存則"
      ]
    },
    {
      "cell_type": "code",
      "execution_count": null,
      "metadata": {
        "id": "nQf7bNyMYNNP"
      },
      "outputs": [],
      "source": [
        "n_input = 1       # 入力層のノード数\n",
        "n_output = 2      # 出力層のノード数\n",
        "n_neuron = 50     # 中間層のニューロン数\n",
        "n_layer = 3       # 中間層の層数\n",
        "epochs = 100000        # 計算エポック数\n",
        "act_fn = nn.Tanh()\n",
        "learning_rate = 1e-3\n",
        "physic_loss_weight = 5e-5"
      ]
    },
    {
      "cell_type": "markdown",
      "metadata": {
        "id": "spYRxLH1UPy2"
      },
      "source": [
        "# Implement Analytical (解析解)"
      ]
    },
    {
      "cell_type": "code",
      "execution_count": null,
      "metadata": {
        "id": "K9CgL6z0Nf49"
      },
      "outputs": [],
      "source": [
        "def analytic(m,k,c,l,r0,v_r0,v_thete0, t_end,dt,r,theta,h):\n",
        "    # 配列を用意\n",
        "    time = np.arange(0, t_end, dt)\n",
        "    r_values = []\n",
        "    theta_values = []\n",
        "\n",
        "    # シミュレーション\n",
        "    for t in time:\n",
        "        # 運動方程式の計算\n",
        "        r_dot = v_r0\n",
        "        theta_dot = h / r**2\n",
        "        r_ddot = -k/m * (r - l) - c/m * r_dot + h**2 / r**3\n",
        "\n",
        "        # 数値積分 (Euler法)\n",
        "        v_r0 += r_ddot * dt\n",
        "        r += r_dot * dt\n",
        "        theta += theta_dot * dt\n",
        "\n",
        "        # 値を記録\n",
        "        r_values.append(r)\n",
        "        theta_values.append(theta)\n",
        "\n",
        "    # 極座標をデカルト座標に変換\n",
        "    x_values = [r * np.cos(theta) for r, theta in zip(r_values, theta_values)]\n",
        "    y_values = [r * np.sin(theta) for r, theta in zip(r_values, theta_values)]\n",
        "\n",
        "    return time, x_values, y_values\n",
        "\n",
        "\n"
      ]
    },
    {
      "cell_type": "code",
      "execution_count": null,
      "metadata": {
        "colab": {
          "base_uri": "https://localhost:8080/",
          "height": 469
        },
        "id": "C5KhBY5XU2R4",
        "outputId": "31fbd511-d832-460d-8ba7-256c10725083"
      },
      "outputs": [
        {
          "output_type": "display_data",
          "data": {
            "text/plain": [
              "<Figure size 640x480 with 2 Axes>"
            ],
            "image/png": "[encoded data removed]"
          },
          "metadata": {}
        }
      ],
      "source": [
        "time, x_values, y_values = analytic(m,k,c,l,r0,v_r0,v_theta0, t_end,dt,r,theta,h)\n",
        "\n",
        "x_analytic = np.array(x_values)\n",
        "y_analytic = np.array(y_values)\n",
        "\n",
        "# カラーマップの作成\n",
        "colors = np.linspace(0, 1, len(time))  # 時間によって色を変化\n",
        "cmap = plt.get_cmap('cool')\n",
        "\n",
        "# プロット\n",
        "plt.scatter(x_values, y_values, c=colors, cmap=cmap, s=5)\n",
        "plt.colorbar(label='Time (scaled)')\n",
        "plt.title('Motion in [x, y] Plane')\n",
        "plt.xlabel('x')\n",
        "plt.ylabel('y')\n",
        "plt.grid()\n",
        "plt.axis('equal')\n",
        "plt.show()"
      ]
    },
    {
      "cell_type": "markdown",
      "metadata": {
        "id": "5YIlrl7gUUic"
      },
      "source": [
        "# Implement PINNs class (PINNsクラスの実装)"
      ]
    },
    {
      "cell_type": "code",
      "execution_count": null,
      "metadata": {
        "id": "kFcwqmiiQtDA"
      },
      "outputs": [],
      "source": [
        "class NN(nn.Module):\n",
        "\n",
        "    def __init__(self, n_input, n_output, n_neuron, n_layer, act_fn):\n",
        "\n",
        "        super(NN, self).__init__()\n",
        "\n",
        "        self.n_input = n_input\n",
        "        self.n_output = n_output\n",
        "        self.n_neuron = n_neuron\n",
        "        self.n_layer = n_layer\n",
        "\n",
        "        #set activation function\n",
        "        self.activation = act_fn\n",
        "\n",
        "        layers = []\n",
        "        layers.append(nn.Linear(self.n_input, self.n_neuron))\n",
        "        layers.append(self.activation)\n",
        "\n",
        "        for _ in range(self.n_layer -1):\n",
        "            layers.append(nn.Linear(self.n_neuron, self.n_neuron))\n",
        "            layers.append(self.activation)\n",
        "        layers.append(nn.Linear(self.n_neuron, self.n_output))\n",
        "        self.layers = nn.Sequential(*layers)\n",
        "\n",
        "        '''self.affine2 = nn.Linear(50, 50)\n",
        "        self.affine3 = nn.Linear(50, 50)\n",
        "        self.affine4 = nn.Linear(50, self.n_output)'''\n",
        "\n",
        "\n",
        "    def forward(self, t):\n",
        "        out = self.layers(t)\n",
        "        return out[:,0], out[:,1]\n",
        "\n"
      ]
    },
    {
      "cell_type": "code",
      "execution_count": null,
      "metadata": {
        "id": "ULpuWhr9Ry9O"
      },
      "outputs": [],
      "source": [
        "class PINNs():\n",
        "    def __init__(self,\n",
        "                 n_input,       # 入力層のノード数\n",
        "                 n_output,      # 出力層のノード数\n",
        "                 n_neuron,      # 中間層のニューロン数\n",
        "                 n_layer,       # 中間層の層数\n",
        "                 act_fn,        # 活性化関数\n",
        "                 t,             # 教師データ(時間)\n",
        "                 t_pinn,        # 定義時間域\n",
        "                 x,             # 教師データ\n",
        "                 y,\n",
        "                 c,             # 減衰係数\n",
        "                 k,             # バネ定数\n",
        "                 epochs,        # 計算エポック数\n",
        "                 lr = 1e-3\n",
        "                 ):\n",
        "\n",
        "        super(PINNs, self).__init__()\n",
        "        self.n_input = n_input\n",
        "        self.n_output = n_output\n",
        "        self.n_neuron = n_neuron\n",
        "        self.n_layer = n_layer\n",
        "        self.act_fn = act_fn\n",
        "        self.t = torch.tensor(t, requires_grad=True).float()\n",
        "        self.t_pinn = torch.tensor(t_pinn, requires_grad=True).float()\n",
        "        self.x_data = torch.tensor(x, requires_grad=True).float()\n",
        "        self.y_data = torch.tensor(y, requires_grad=True).float()\n",
        "        self.c = c\n",
        "        self.k = k\n",
        "        self.epochs = epochs\n",
        "        self.lr = lr\n",
        "        self.loss_fn = nn.MSELoss()\n",
        "\n",
        "\n",
        "        #DEfine NN\n",
        "        self.dnn = NN(\n",
        "            self.n_input,\n",
        "            self.n_output,\n",
        "            self.n_neuron,\n",
        "            self.n_layer,\n",
        "            self.act_fn\n",
        "        )\n",
        "\n",
        "        #optimizers\n",
        "        self.optimizer = torch.optim.Adam(self.dnn.parameters(), self.lr)\n",
        "\n",
        "    def physic_loss(self,x_pred, y_pred,t):\n",
        "\n",
        "        # デカルト座標から極座標へ変換\n",
        "        r_pred = torch.sqrt(x_pred**2 + y_pred**2)\n",
        "        theta_pred = torch.atan2(y_pred, x_pred)\n",
        "\n",
        "        # 自動微分を使用して時間微分を計算\n",
        "        dr_dt = torch.autograd.grad(r_pred, t, grad_outputs=torch.ones_like(r_pred), create_graph=True)[0]\n",
        "        dr_dtdt = torch.autograd.grad(dr_dt, t, grad_outputs=torch.ones_like(dr_dt), create_graph=True)[0]\n",
        "        dtheta_dt = torch.autograd.grad(theta_pred, t, grad_outputs=torch.ones_like(theta_pred), create_graph=True)[0]\n",
        "\n",
        "\n",
        "        # 半径方向の運動方程式の誤差\n",
        "        radial_eq = dr_dtdt + (k/m) * (r - l) + (c/m) * dr_dt - h**2 / r**3\n",
        "\n",
        "        # 角運動量保存則の誤差\n",
        "        angular_eq = dtheta_dt - h / r**2\n",
        "        # 物理損失の合計\n",
        "        radial_loss = torch.mean(radial_eq**2)\n",
        "        angular_loss = torch.mean(angular_eq**2)\n",
        "\n",
        "        phys_loss = radial_loss + angular_loss\n",
        "        return phys_loss\n",
        "\n",
        "    def loss_func(self,plw = 5e-4):\n",
        "        self.optimizer.zero_grad()\n",
        "\n",
        "        self.plw = plw\n",
        "\n",
        "        x_pred,y_pred = self.dnn.forward(self.t)\n",
        "        loss_x = self.loss_fn(x_pred, self.x_data)\n",
        "\n",
        "        x_pred_pinn,y_pred_pinn = self.dnn.forward(self.t_pinn)\n",
        "\n",
        "\n",
        "        loss_f = self.physic_loss(x_pred_pinn, y_pred_pinn, self.t_pinn)\n",
        "        loss = loss_x + loss_f*self.plw\n",
        "\n",
        "        return loss, loss_x, loss_f\n",
        "\n",
        "        '''f_pred = self.net_f(self.t_region)\n",
        "        loss_x = torch.mean((self.x - x_pred)**2)\n",
        "        loss_f = torch.mean(f_pred**2)\n",
        "\n",
        "        loss = loss_x + loss_f*self.plw\n",
        "\n",
        "        return loss, loss_x, loss_f'''\n",
        "\n",
        "    def train(self):\n",
        "        t_list = []\n",
        "        x_list = []\n",
        "        f_list = []\n",
        "\n",
        "        for epoch in tqdm(range(self.epochs), desc=\"Training Progress\"):\n",
        "\n",
        "            self.dnn.train()\n",
        "\n",
        "            self.optimizer.zero_grad()\n",
        "            self.loss, self.loss_x, self.loss_f = self.loss_func()\n",
        "            self.loss.backward()\n",
        "            self.optimizer.step()\n",
        "\n",
        "\n",
        "            t_list.append(self.loss.item())\n",
        "            x_list.append(self.loss_x.item())\n",
        "            f_list.append(self.loss_f.item())\n",
        "\n",
        "            '''if epoch % 100 ==0:\n",
        "                print( 'Iter %d, Loss: %.5e, Loss_x: %.5e, Loss_f: %.5e' % (epoch, self.loss.item(), self.loss_x.item(), self.loss_f.item()))'''\n",
        "        return t_list, x_list, f_list\n",
        "\n",
        "    def predict(self, t):\n",
        "        t = torch.tensor(t, requires_grad=True).float()\n",
        "\n",
        "        self.dnn.eval()\n",
        "        x, y = self.dnn(t)\n",
        "        f = self.physic_loss(x,y,t)\n",
        "\n",
        "        return x, y, f"
      ]
    },
    {
      "cell_type": "markdown",
      "metadata": {
        "id": "vaVfjFXKUh6q"
      },
      "source": [
        "# train"
      ]
    },
    {
      "cell_type": "code",
      "execution_count": null,
      "metadata": {
        "colab": {
          "base_uri": "https://localhost:8080/"
        },
        "id": "TnyOoxttUhDI",
        "outputId": "e553882b-661e-4c51-a86b-423c1cde4903"
      },
      "outputs": [
        {
          "output_type": "stream",
          "name": "stderr",
          "text": [
            "Training Progress: 100%|██████████| 100000/100000 [21:49<00:00, 76.37it/s]\n"
          ]
        }
      ],
      "source": [
        "#モデルの定義域を分割(学習最中のモデルの支配方程式当てはまり度を算出する際に使用する)\n",
        "t_pinn = np.linspace(0, t_end, t_step)\n",
        "# ベクトル化\n",
        "t_pinn = t_pinn.reshape(-1, 1)\n",
        "\n",
        "#t_pinnのうちが学習に使用するデータを５点抽出\n",
        "random_list = [0, 5, 10, 20, 30, 45, 60, 75, 90]\n",
        "\n",
        "\n",
        "t_data = t_pinn[random_list]\n",
        "x_data = x_analytic[random_list]\n",
        "y_data = y_analytic[random_list]\n",
        "\n",
        "#インスタンス化\n",
        "pinns = PINNs(\n",
        "    n_input,\n",
        "    n_output,\n",
        "    n_neuron,\n",
        "    n_layer,\n",
        "    act_fn,\n",
        "    t_data,\n",
        "    t_pinn,\n",
        "    x_data,\n",
        "    y_data,\n",
        "    c,\n",
        "    k,\n",
        "    epochs,\n",
        "    learning_rate\n",
        "    )\n",
        "\n",
        "pinns.lr = learning_rate\n",
        "pinns.plw = physic_loss_weight\n",
        "pinns.epochs = 100000\n",
        "\n",
        "#学習\n",
        "train_loss, x_loss , f_loss= pinns.train()"
      ]
    },
    {
      "cell_type": "code",
      "execution_count": null,
      "metadata": {
        "colab": {
          "base_uri": "https://localhost:8080/",
          "height": 225
        },
        "id": "UGen9isRZv7i",
        "outputId": "073b4014-08e8-4f0e-e36e-1d882becd5dd"
      },
      "outputs": [
        {
          "output_type": "error",
          "ename": "NameError",
          "evalue": "name 'analytic' is not defined",
          "traceback": [
            "\u001b[0;31m---------------------------------------------------------------------------\u001b[0m",
            "\u001b[0;31mNameError\u001b[0m                                 Traceback (most recent call last)",
            "\u001b[0;32m<ipython-input-1-a26c05564bfb>\u001b[0m in \u001b[0;36m<cell line: 1>\u001b[0;34m()\u001b[0m\n\u001b[0;32m----> 1\u001b[0;31m \u001b[0mtime\u001b[0m\u001b[0;34m,\u001b[0m \u001b[0mx_values\u001b[0m\u001b[0;34m,\u001b[0m \u001b[0my_values\u001b[0m \u001b[0;34m=\u001b[0m \u001b[0manalytic\u001b[0m\u001b[0;34m(\u001b[0m\u001b[0mm\u001b[0m\u001b[0;34m,\u001b[0m\u001b[0mk\u001b[0m\u001b[0;34m,\u001b[0m\u001b[0mc\u001b[0m\u001b[0;34m,\u001b[0m\u001b[0ml\u001b[0m\u001b[0;34m,\u001b[0m\u001b[0mr0\u001b[0m\u001b[0;34m,\u001b[0m\u001b[0mv_r0\u001b[0m\u001b[0;34m,\u001b[0m\u001b[0mv_theta0\u001b[0m\u001b[0;34m,\u001b[0m \u001b[0mt_end\u001b[0m\u001b[0;34m,\u001b[0m\u001b[0mdt\u001b[0m\u001b[0;34m,\u001b[0m\u001b[0mr\u001b[0m\u001b[0;34m,\u001b[0m\u001b[0mtheta\u001b[0m\u001b[0;34m,\u001b[0m\u001b[0mh\u001b[0m\u001b[0;34m)\u001b[0m\u001b[0;34m\u001b[0m\u001b[0;34m\u001b[0m\u001b[0m\n\u001b[0m\u001b[1;32m      2\u001b[0m \u001b[0;34m\u001b[0m\u001b[0m\n\u001b[1;32m      3\u001b[0m \u001b[0mx_analytic\u001b[0m \u001b[0;34m=\u001b[0m \u001b[0mnp\u001b[0m\u001b[0;34m.\u001b[0m\u001b[0marray\u001b[0m\u001b[0;34m(\u001b[0m\u001b[0mx_values\u001b[0m\u001b[0;34m)\u001b[0m\u001b[0;34m\u001b[0m\u001b[0;34m\u001b[0m\u001b[0m\n\u001b[1;32m      4\u001b[0m \u001b[0my_analytic\u001b[0m \u001b[0;34m=\u001b[0m \u001b[0mnp\u001b[0m\u001b[0;34m.\u001b[0m\u001b[0marray\u001b[0m\u001b[0;34m(\u001b[0m\u001b[0my_values\u001b[0m\u001b[0;34m)\u001b[0m\u001b[0;34m\u001b[0m\u001b[0;34m\u001b[0m\u001b[0m\n\u001b[1;32m      5\u001b[0m \u001b[0;34m\u001b[0m\u001b[0m\n",
            "\u001b[0;31mNameError\u001b[0m: name 'analytic' is not defined"
          ]
        }
      ],
      "source": [
        "time, x_values, y_values = analytic(m,k,c,l,r0,v_r0,v_theta0, t_end,dt,r,theta,h)\n",
        "\n",
        "x_analytic = np.array(x_values)\n",
        "y_analytic = np.array(y_values)\n",
        "\n",
        "#予測\n",
        "x_pred, y_pred, f_pred = pinns.predict(t_pinn)\n",
        "x_pred = x_pred.detach().numpy()\n",
        "y_pred = y_pred.detach().numpy()\n",
        "# カラーマップの正規化\n",
        "norm = plt.Normalize(t_pinn.min(), t_pinn.max())\n",
        "\n",
        "'''# 予測値を線でプロット（色を時間で変化）\n",
        "points = np.array([x_pred, y_pred]).T.reshape(-1, 1, 2)\n",
        "segments = np.concatenate([points[:-1], points[1:]], axis=1)\n",
        "lc = LineCollection(segments, cmap='viridis', norm=norm)\n",
        "\n",
        "# Change here: Flatten t_pinn to a 1D array\n",
        "lc.set_array(t_pinn.flatten())  # Use flatten() to convert to 1D\n",
        "\n",
        "lc.set_linewidth(3)\n",
        "plt.gca().add_collection(lc)\n",
        "plt.colorbar(lc, label='Time')'''\n",
        "\n",
        "plt.scatter(x_pred, y_pred, c = time, s=10, label='PINNs')\n",
        "\n",
        "# 解析解を散布図でプロット（色を時間で変化）\n",
        "plt.scatter(x_analytic, y_analytic, c=time, cmap='cool', s=5, label='Analytic')\n",
        "\n",
        "plt.scatter(x_data, y_data, c='blue', s=10, label = 'sample')\n",
        "\n",
        "# 学習データがある場合（x_dataとy_dataを使用）\n",
        "# plt.scatter(x_data, y_data, s=100, label='Train')\n",
        "\n",
        "# 軸の設定\n",
        "'''plt.xlim(-2.5, 2.5)\n",
        "plt.ylim(-2.5, 2.5)'''\n",
        "plt.xlabel('X')\n",
        "plt.ylabel('Y')\n",
        "plt.legend()\n",
        "plt.show()"
      ]
    },
    {
      "cell_type": "code",
      "source": [
        "\n",
        "plt.plot(x_loss, label='loss_x')\n",
        "plt.plot(f_loss, label='loss_f')\n",
        "plt.plot(train_loss, label='loss')\n",
        "plt.legend()\n",
        "plt.show()"
      ],
      "metadata": {
        "colab": {
          "base_uri": "https://localhost:8080/",
          "height": 54
        },
        "id": "rr4sW51Hj7Qb",
        "outputId": "9bfcc476-678e-4eb7-f93a-c114b7187705"
      },
      "execution_count": null,
      "outputs": [
        {
          "output_type": "display_data",
          "data": {
            "text/plain": [
              "<Figure size 640x480 with 1 Axes>"
            ],
            "image/png": "[encoded data removed]"
          },
          "metadata": {}
        }
      ]
    }
  ],
  "metadata": {
    "colab": {
      "provenance": [],
      "authorship_tag": "ABX9TyPzBtyhvxsgNX3XGrQCXQAM"
    },
    "kernelspec": {
      "display_name": "Python 3",
      "name": "python3"
    },
    "language_info": {
      "name": "python"
    }
  },
  "nbformat": 4,
  "nbformat_minor": 0
}